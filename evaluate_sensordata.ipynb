{
 "cells": [
  {
   "attachments": {},
   "cell_type": "markdown",
   "metadata": {},
   "source": [
    "# Evaluation of Car Data"
   ]
  },
  {
   "cell_type": "code",
   "execution_count": null,
   "metadata": {},
   "outputs": [],
   "source": [
    "import numpy as np\n",
    "import matplotlib.pyplot as plt\n",
    "import pandas as pd\n",
    "import scipy\n",
    "from scipy import signal\n",
    "from ipyleaflet import Map, GeoJSON, Rectangle, basemaps, GeoData, AntPath"
   ]
  },
  {
   "cell_type": "code",
   "execution_count": null,
   "metadata": {},
   "outputs": [],
   "source": [
    "#df = pd.read_csv(\"2023-03-30-07-47-32-722.csv\")\n",
    "#df = pd.read_csv(\"2023-04-17-18-17-37-099.csv\")\n",
    "#df = pd.read_csv(\"2023-04-17-18-22-19-825.csv\")\n",
    "df = pd.read_csv(\"2023-04-19-21-28-42-526.csv\")\n",
    "df.tail()"
   ]
  },
  {
   "cell_type": "code",
   "execution_count": null,
   "metadata": {},
   "outputs": [],
   "source": [
    "# calculate time relative to first measurement timestamp\n",
    "df[\"time\"] = (df[\"timestamp\"] - df[\"timestamp\"][0]) / 1000000000\n",
    "\n",
    "# correct speeds of 0.0 to nan\n",
    "df[\"speed\"][df[\"speed\"] == 0.0] = np.nan\n",
    "\n",
    "# correct gps positions of 0.0 to nan\n",
    "df[\"longitude\"][df[\"longitude\"] == 0.0] = np.nan\n",
    "df[\"latitude\"][df[\"latitude\"] == 0.0] = np.nan\n",
    "\n",
    "df.tail()"
   ]
  },
  {
   "attachments": {},
   "cell_type": "markdown",
   "metadata": {},
   "source": [
    "## Filter Aceleration Signals"
   ]
  },
  {
   "cell_type": "code",
   "execution_count": null,
   "metadata": {},
   "outputs": [],
   "source": [
    "# do low pass filter\n",
    "sos = signal.butter(10, 15, 'low', fs=1000, output='sos')\n",
    "filtered_x = signal.sosfilt(sos, df[\"accel_x\"])\n",
    "filtered_y = signal.sosfilt(sos, df[\"accel_y\"])\n",
    "filtered_z = signal.sosfilt(sos, df[\"accel_z\"])"
   ]
  },
  {
   "cell_type": "code",
   "execution_count": null,
   "metadata": {},
   "outputs": [],
   "source": [
    "%matplotlib inline\n",
    "# vs %matplotlib qt\n",
    "# vs %matplotlib notebook\n",
    "plt.figure(figsize=(30,20))\n",
    "ax1 = plt.subplot(4,1,1)\n",
    "plt.title(\"Speed\")\n",
    "plt.plot(df[\"time\"][df[\"speed\"].notna()], df[\"speed\"][df[\"speed\"].notna()] * 3.6,'-o')\n",
    "plt.plot(df[\"time\"][df[\"obd_speed\"].notna()], df[\"obd_speed\"][df[\"obd_speed\"].notna()],'-r')\n",
    "ax2 = plt.subplot(4,1,2, sharex = ax1)\n",
    "plt.title(\"Acceleration in X\")\n",
    "plt.plot(df[\"time\"], df[\"accel_x\"],'-')\n",
    "plt.plot(df[\"time\"], filtered_x,'r-')\n",
    "ax3 = plt.subplot(4,1,3, sharex = ax1)\n",
    "plt.title(\"Acceleration in Y\")\n",
    "plt.plot(df[\"time\"], df[\"accel_y\"],'-')\n",
    "plt.plot(df[\"time\"], filtered_y,'r-')\n",
    "ax4 = plt.subplot(4,1,4, sharex = ax1)\n",
    "plt.title(\"Acceleration in Z\")\n",
    "plt.plot(df[\"time\"], df[\"accel_z\"],'-')\n",
    "plt.plot(df[\"time\"], filtered_z,'r-')\n",
    "plt.show()"
   ]
  },
  {
   "cell_type": "code",
   "execution_count": null,
   "metadata": {},
   "outputs": [],
   "source": [
    "plt.figure(figsize=(30,20))\n",
    "ax1 = plt.subplot(3,1,1)\n",
    "plt.title(\"Speed\")\n",
    "plt.plot(df[\"time\"][df[\"speed\"].notna()], df[\"speed\"][df[\"speed\"].notna()] * 3.6,'-o')\n",
    "plt.plot(df[\"time\"][df[\"obd_speed\"].notna()], df[\"obd_speed\"][df[\"obd_speed\"].notna()],'-r')\n",
    "ax2 = plt.subplot(3,1,2, sharex = ax1)\n",
    "plt.title(\"RPM\")\n",
    "plt.plot(df[\"time\"], df[\"obd_rpm\"],'-')\n",
    "ax3 = plt.subplot(3,1,3, sharex = ax1)\n",
    "plt.title(\"Driving Pedal Value (can be used for ACC activation status)\")\n",
    "plt.plot(df[\"time\"], df[\"obd_throttle\"],'-')\n",
    "plt.show()"
   ]
  },
  {
   "attachments": {},
   "cell_type": "markdown",
   "metadata": {},
   "source": [
    "## Create Map"
   ]
  },
  {
   "cell_type": "code",
   "execution_count": null,
   "metadata": {},
   "outputs": [],
   "source": [
    "def create_map(df):   \n",
    "    long = df[\"longitude\"][df[\"longitude\"].notna()].to_numpy()\n",
    "    lat = df[\"latitude\"][df[\"latitude\"].notna()].to_numpy()\n",
    "\n",
    "    # stack long and lat positions\n",
    "    positions = np.stack((lat,long), axis=1)\n",
    "\n",
    "    # set map center to country of interest\n",
    "    m = Map(center=positions[0].tolist(), zoom=9)\n",
    "\n",
    "    ant_path = AntPath(\n",
    "        locations=positions.tolist(), \n",
    "        dash_array=[1,10],\n",
    "        delay=1000,\n",
    "        color='#FF0000',\n",
    "        pulse_color='#0000FF'\n",
    "    )\n",
    "    m.add_layer(ant_path)  \n",
    "\n",
    "    return m"
   ]
  },
  {
   "cell_type": "code",
   "execution_count": null,
   "metadata": {},
   "outputs": [],
   "source": [
    "m = create_map(df)\n",
    "m"
   ]
  },
  {
   "cell_type": "code",
   "execution_count": null,
   "metadata": {},
   "outputs": [],
   "source": []
  }
 ],
 "metadata": {
  "file_extension": ".py",
  "kernelspec": {
   "display_name": "deep-learning",
   "language": "python",
   "name": "python3"
  },
  "language_info": {
   "codemirror_mode": {
    "name": "ipython",
    "version": 3
   },
   "file_extension": ".py",
   "mimetype": "text/x-python",
   "name": "python",
   "nbconvert_exporter": "python",
   "pygments_lexer": "ipython3",
   "version": "3.10.8"
  },
  "mimetype": "text/x-python",
  "name": "python",
  "npconvert_exporter": "python",
  "orig_nbformat": 2,
  "pygments_lexer": "ipython3",
  "version": 3,
  "vscode": {
   "interpreter": {
    "hash": "c82ce3da0e110d27afe1a6f77d2039bca6ed16a93312ddc40a28680216cd02b4"
   }
  }
 },
 "nbformat": 4,
 "nbformat_minor": 2
}
